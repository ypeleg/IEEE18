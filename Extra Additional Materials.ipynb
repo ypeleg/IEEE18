{
 "cells": [
  {
   "cell_type": "markdown",
   "metadata": {},
   "source": [
    "# Reference to Notebooks in the Additional Materials Section"
   ]
  },
  {
   "cell_type": "markdown",
   "metadata": {
    "collapsed": true
   },
   "source": [
    "- [Perceptron and Adaline Implementation](./additional materials/1.1.1 Perceptron and Adaline.ipynb)\n",
    "\n",
    "- [MLP and MNIST](./additional materials/1.1.2 MLP and MNIST.ipynb)\n",
    "\n",
    "- [Quick Theano Tutorial](./additional materials/1.5.1 Introduction - Theano.ipynb)\n",
    "\n",
    "- [LSTM for Sentence Generation](./additional materials/3.3 LSTM for Sentence Generation.ipynb)\n",
    "\n",
    "- [Custom Layers in Keras](./additional materials/5.1 Custom Layer.ipynb)\n",
    "\n",
    "- [Multi-Modal Networks](./additional materials/5.2 Multi-Modal Networks.ipynb)"
   ]
  }
 ],
 "metadata": {
  "kernelspec": {
   "display_name": "Python 3",
   "language": "python",
   "name": "python3"
  },
  "language_info": {
   "codemirror_mode": {
    "name": "ipython",
    "version": 3
   },
   "file_extension": ".py",
   "mimetype": "text/x-python",
   "name": "python",
   "nbconvert_exporter": "python",
   "pygments_lexer": "ipython3",
   "version": "3.5.3"
  }
 },
 "nbformat": 4,
 "nbformat_minor": 1
}
